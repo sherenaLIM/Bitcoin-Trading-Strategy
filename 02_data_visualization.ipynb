{
 "cells": [
  {
   "cell_type": "code",
   "execution_count": null,
   "id": "dbdd1e85-eb4e-4c3a-aa1e-84245ea24bf6",
   "metadata": {
    "tags": []
   },
   "outputs": [],
   "source": [
    "# import libraries for time-series analysis\n",
    "import os\n",
    "import numpy as np\n",
    "import pandas as pd\n",
    "import seaborn as sns\n",
    "\n",
    "from plotly.subplots import make_subplots\n",
    "import plotly.graph_objects as go\n",
    "import plotly.express as px\n",
    "\n",
    "import matplotlib.pyplot as plt\n",
    "from matplotlib import cm\n",
    "from pandas import read_csv, set_option\n",
    "\n",
    "from sklearn import preprocessing\n",
    "from sklearn.preprocessing import StandardScaler, MinMaxScaler, Normalizer, RobustScaler\n",
    "from sklearn.model_selection import train_test_split, KFold, cross_val_score, GridSearchCV\n",
    "from sklearn.linear_model import LogisticRegression\n",
    "from sklearn.tree import DecisionTreeClassifier\n",
    "from sklearn.neighbors import KNeighborsClassifier\n",
    "from sklearn.discriminant_analysis import LinearDiscriminantAnalysis\n",
    "from sklearn.naive_bayes import GaussianNB\n",
    "from sklearn.svm import SVC\n",
    "from sklearn.neural_network import MLPClassifier\n",
    "from catboost import CatBoostClassifier, CatBoostRegressor\n",
    "from sklearn.ensemble import RandomForestClassifier, RandomForestRegressor\n",
    "from sklearn.feature_selection import SelectKBest, f_regression\n",
    "import xgboost\n",
    "from xgboost import plot_importance, XGBClassifier, XGBRegressor\n",
    "from sklearn.model_selection import learning_curve\n",
    "from sklearn.pipeline import Pipeline\n",
    "from sklearn.ensemble import AdaBoostClassifier, GradientBoostingClassifier, RandomForestClassifier, ExtraTreesClassifier\n",
    "from sklearn.metrics import classification_report, confusion_matrix, accuracy_score\n",
    "\n",
    "import shap\n",
    "\n",
    "from sklearn.decomposition import PCA\n",
    "from sklearn.decomposition import SparsePCA\n",
    "from tqdm.autonotebook import tqdm\n",
    "from sklearn.decomposition import KernelPCA\n",
    "from sklearn.decomposition import IncrementalPCA\n",
    "from sklearn.decomposition import TruncatedSVD\n",
    "from sklearn.decomposition import MiniBatchDictionaryLearning\n",
    "from sklearn.decomposition import FastICA\n",
    "from sklearn.manifold import Isomap\n",
    "from sklearn.manifold import MDS\n",
    "from sklearn.manifold import LocallyLinearEmbedding\n",
    "from sklearn.manifold import TSNE\n",
    "from sklearn.random_projection import GaussianRandomProjection\n",
    "from sklearn.random_projection import SparseRandomProjection\n",
    "\n",
    "import time\n",
    "import warnings\n",
    "warnings.filterwarnings('ignore')\n",
    "sns.set(style='whitegrid')\n",
    "%matplotlib inline"
   ]
  },
  {
   "cell_type": "code",
   "execution_count": null,
   "id": "359bfbc7-820a-4c92-91c9-0a43cf04f116",
   "metadata": {
    "tags": []
   },
   "outputs": [],
   "source": [
    "import datetime"
   ]
  },
  {
   "cell_type": "code",
   "execution_count": null,
   "id": "923961cb-b5c9-493b-8ea7-555640c34b41",
   "metadata": {
    "tags": []
   },
   "outputs": [],
   "source": [
    "# define time conversion custom function for timestamps in string format -> native timestamps in the csv file\n",
    "def datetime_parser(timestamp_str):\n",
    "    return datetime.datetime.strptime(timestamp_str, \"%Y-%m-%d %H:%M:%S%z\")\n",
    "\n",
    "# define path for train_df1 dataset\n",
    "path = './data/train_df1.csv'\n",
    "\n",
    "# for time series data, the datetime is always the index\n",
    "train_df1 = pd.read_csv(path,\n",
    "                        parse_dates=[0], # to be decided later\n",
    "                        date_parser = datetime_parser,\n",
    "                        index_col = 'Timestamp')    \n",
    "\n",
    "train_df1.info()"
   ]
  },
  {
   "cell_type": "markdown",
   "id": "5d4a249d-b546-4faf-86a9-fd4a39970016",
   "metadata": {
    "tags": []
   },
   "source": [
    "### 2. Time-Series Visualisation of Variables in Dataset"
   ]
  },
  {
   "cell_type": "code",
   "execution_count": null,
   "id": "f1974d14-88af-46da-bd84-a637685424d1",
   "metadata": {
    "tags": []
   },
   "outputs": [],
   "source": [
    "from plotly.subplots import make_subplots"
   ]
  },
  {
   "cell_type": "code",
   "execution_count": null,
   "id": "d603ef89-98db-4a0c-912f-eb7c54bd123f",
   "metadata": {
    "tags": []
   },
   "outputs": [],
   "source": [
    "# visualize overall asset price history during training data period and the associated buy/sell signals\n",
    "    \n",
    "# plot n verticle subplots\n",
    "def plot_vsubplots(ldf,\n",
    "                   lst,\n",
    "                   title='',\n",
    "                   nplots=None,\n",
    "                   lw_id=None,\n",
    "                   size=[400,1000]):\n",
    "\n",
    "    # lw_id list of line widths if added\n",
    "        \n",
    "    assert(nplots is not None) \n",
    "    fig = make_subplots(rows=nplots,\n",
    "                        shared_xaxes=True)\n",
    "    ii=-1\n",
    "    for i in lst:\n",
    "        ii+=1\n",
    "        fig.add_trace(go.Scatter(x=ldf.index,\n",
    "                                 y=ldf[lst[ii]], \n",
    "                                 mode='lines',\n",
    "                                 name=lst[ii],\n",
    "                                 line=dict(width=lw_id[ii])), \n",
    "                      row=ii+1, \n",
    "                      col=1) \n",
    "\n",
    "    fig.update_layout(height=size[0],\n",
    "                      width=size[1],\n",
    "                      template='plotly_white',\n",
    "                      title=title,\n",
    "                      margin=dict(l=50,\n",
    "                                  r=80,\n",
    "                                  t=50,\n",
    "                                  b=40));\n",
    "    fig.show()\n"
   ]
  },
  {
   "cell_type": "code",
   "execution_count": null,
   "id": "34c91a0f-fc30-412e-919a-0d007c393441",
   "metadata": {
    "tags": []
   },
   "outputs": [],
   "source": [
    "plot_vsubplots(train_df1,\n",
    "               ['Close','Signal'],\n",
    "               title='Weighted Price & Signal Fluctuation in Training Data',\n",
    "               nplots=2,\n",
    "               lw_id=[2,0.4],\n",
    "               size=[500,1000])"
   ]
  },
  {
   "cell_type": "markdown",
   "id": "fd6ed104-64b8-4030-8328-9ce49dc32de3",
   "metadata": {},
   "source": [
    "Conclusions: \n",
    "* General upward trend of weight asset price, having gone up from 6.5k at the beginning of this period to 13.8k within the span of a year.\n",
    "* Visualizing the extent of the intersections between the 20-day MA and the 50-day MA - buy signals when the market is bullish."
   ]
  },
  {
   "cell_type": "code",
   "execution_count": null,
   "id": "72a631b4-ce61-4cef-b093-b2049536eddc",
   "metadata": {
    "tags": []
   },
   "outputs": [],
   "source": [
    "import plotly.graph_objects as go"
   ]
  },
  {
   "cell_type": "code",
   "execution_count": null,
   "id": "d1dac354-07cd-40a5-bdf7-60644e6cee7d",
   "metadata": {
    "tags": []
   },
   "outputs": [],
   "source": [
    "# customize function to plot trends across time with line plot\n",
    "def plot_line(ldf, \n",
    "              lst, \n",
    "              title='',\n",
    "              sec_id=None,\n",
    "              size=[350,1000]):\n",
    "    \n",
    "    \"\"\"\n",
    "    Function to plot trends across time with a line plot.\n",
    "    \n",
    "        Parameters:\n",
    "\n",
    "        (1) ldf : dataframe \n",
    "                The DataFrame containing the data to plot.\n",
    "\n",
    "        (2) lst : list of str\n",
    "                A list of column names to plot.\n",
    "\n",
    "        (3) title : str, optional \n",
    "                The title of the plot - default is an empty string.\n",
    "\n",
    "        (4) sec_id : list of bool, optional \n",
    "                A list of boolean values indicating whether to activate subplots; \n",
    "                Must be the same length as lst - default is None.\n",
    "\n",
    "        (5) size : list of int, optional \n",
    "                The size of the plot as [height, width] - default is [350, 1000].\n",
    "            \n",
    "    \"\"\"\n",
    "        \n",
    "    # if sec_id is provided, we create a subplot with secondary y-axis\n",
    "    if(sec_id is not None):\n",
    "        fig = make_subplots(specs=[[{\"secondary_y\": True}]])\n",
    "    else:\n",
    "        fig = go.Figure() # otherwise, create a simple figure without subplots \n",
    "        \n",
    "    # check if lst contains more than one element\n",
    "    if(len(lst) is not 1): # use '!=' instead of 'is not' for integer comparison \n",
    "        ii =-1 # initialize an index for iterating through lst\n",
    "        for i in lst:\n",
    "            ii +=1 # increment index\n",
    "            if(sec_id != None):\n",
    "                # add a trace with a secondary y-axis if sec_id is provided and matches index\n",
    "                fig.add_trace(go.Scatter(x=ldf.index, \n",
    "                                         y=ldf[lst[ii]], \n",
    "                                         mode='lines', \n",
    "                                         name=lst[ii], \n",
    "                                         line=dict(width=2.0)), \n",
    "                              secondary_y=sec_id[ii])\n",
    "            else:\n",
    "                # add a trace to the figure without secondary y-axis\n",
    "                fig.add_trace(go.Scatter(x=ldf.index, \n",
    "                                         y=ldf[lst[ii]], \n",
    "                                         mode='lines', \n",
    "                                         name=lst[ii], \n",
    "                                         line=dict(width=2.0)))\n",
    "    else:\n",
    "        # if lst contains only one element, add a simple trace\n",
    "        fig.add_trace(go.Scatter(x=ldf.index, \n",
    "                                 y=ldf[lst[0]],\n",
    "                                 mode='lines',\n",
    "                                 name=lst[0],\n",
    "                                 line=dict(width=2.0)))\n",
    "\n",
    "    # update the layout of the figure with the specific size and title\n",
    "    fig.update_layout(height=size[0],\n",
    "                      width=size[1],\n",
    "                      template='plotly_white',\n",
    "                      title=title,\n",
    "                      margin=dict(l=50,\n",
    "                                  r=80,\n",
    "                                  t=50,\n",
    "                                  b=40));\n",
    "    \n",
    "    # display the plot  \n",
    "    fig.show()"
   ]
  },
  {
   "cell_type": "code",
   "execution_count": null,
   "id": "34773668-3e0f-47a4-b3b4-c56cc8377a99",
   "metadata": {
    "tags": []
   },
   "outputs": [],
   "source": [
    "train_df1"
   ]
  },
  {
   "cell_type": "code",
   "execution_count": null,
   "id": "86b9a351-d325-46b9-9f9c-8069d3c6d782",
   "metadata": {
    "tags": []
   },
   "outputs": [],
   "source": [
    "# visualize the features related to the target variable in the training data (20MA, 50MA, Signal)\n",
    "engineered_features = ['SMA', 'LMA', 'Signal']\n",
    "plot_period = slice('2019-7-7 0:00','2019-7-7 8:00')  \n",
    "ldf = train_df1.loc[plot_period, engineered_features]\n",
    "\n",
    "# apply customized function to training data \n",
    "plot_line(ldf, \n",
    "          engineered_features, \n",
    "          title = '20MA, 50MA & Signal Created from Closing Price',\n",
    "          sec_id = [False, False, True]) "
   ]
  },
  {
   "cell_type": "raw",
   "id": "09143185-645f-4314-bce5-165278403436",
   "metadata": {},
   "source": [
    "We can see that there are quite a number of points during which the shorter and longer moving average values intersect, even in a mere 8 hour window period. The asset price varied in the range of 11.1k and 11.6k during the observed period, which is indicative of a highly volatile asset."
   ]
  }
 ],
 "metadata": {
  "kernelspec": {
   "display_name": "Python 3 (ipykernel)",
   "language": "python",
   "name": "python3"
  },
  "language_info": {
   "codemirror_mode": {
    "name": "ipython",
    "version": 3
   },
   "file_extension": ".py",
   "mimetype": "text/x-python",
   "name": "python",
   "nbconvert_exporter": "python",
   "pygments_lexer": "ipython3",
   "version": "3.11.5"
  }
 },
 "nbformat": 4,
 "nbformat_minor": 5
}
